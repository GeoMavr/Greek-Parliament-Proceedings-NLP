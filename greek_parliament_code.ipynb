{
 "cells": [
  {
   "cell_type": "code",
   "execution_count": 1,
   "metadata": {},
   "outputs": [],
   "source": [
    "from sklearn.feature_extraction.text  import CountVectorizer\n",
    "from sklearn.feature_extraction.text  import TfidfTransformer\n",
    "from sklearn.feature_extraction.text  import TfidfVectorizer\n",
    "from sklearn.model_selection import train_test_split\n",
    "from sklearn.metrics import accuracy_score\n",
    "from sklearn.pipeline import Pipeline\n",
    "from sklearn.naive_bayes import MultinomialNB\n",
    "from sklearn.linear_model import SGDClassifier\n",
    "from sklearn.dummy import DummyClassifier\n",
    "from sklearn.linear_model import LogisticRegression\n",
    "from sklearn.preprocessing import StandardScaler\n",
    "from sklearn.svm import SVC\n",
    "from sklearn.model_selection import GridSearchCV\n",
    "from sklearn.model_selection import cross_val_score\n",
    "from sklearn import metrics\n",
    "import pandas as pd\n",
    "import matplotlib.pyplot as plt\n",
    "import numpy as np\n",
    "%matplotlib inline\n",
    "import spacy"
   ]
  },
  {
   "cell_type": "markdown",
   "metadata": {},
   "source": [
    "* Firstly, we read the data for the Greek Parliament proceedings.\n",
    "* We print the first lines in order to have a clear view on the structure of the data."
   ]
  },
  {
   "cell_type": "code",
   "execution_count": 2,
   "metadata": {},
   "outputs": [
    {
     "data": {
      "text/html": [
       "<div>\n",
       "<style scoped>\n",
       "    .dataframe tbody tr th:only-of-type {\n",
       "        vertical-align: middle;\n",
       "    }\n",
       "\n",
       "    .dataframe tbody tr th {\n",
       "        vertical-align: top;\n",
       "    }\n",
       "\n",
       "    .dataframe thead th {\n",
       "        text-align: right;\n",
       "    }\n",
       "</style>\n",
       "<table border=\"1\" class=\"dataframe\">\n",
       "  <thead>\n",
       "    <tr style=\"text-align: right;\">\n",
       "      <th></th>\n",
       "      <th>member_name</th>\n",
       "      <th>sitting_date</th>\n",
       "      <th>parliamentary_period</th>\n",
       "      <th>parliamentary_session</th>\n",
       "      <th>parliamentary_sitting</th>\n",
       "      <th>political_party</th>\n",
       "      <th>speaker_info</th>\n",
       "      <th>speech</th>\n",
       "    </tr>\n",
       "  </thead>\n",
       "  <tbody>\n",
       "    <tr>\n",
       "      <th>0</th>\n",
       "      <td>κρητικος νικολαου παναγιωτης</td>\n",
       "      <td>1989-07-03</td>\n",
       "      <td>period 5</td>\n",
       "      <td>session 1</td>\n",
       "      <td>sitting 1</td>\n",
       "      <td>πανελληνιο σοσιαλιστικο κινημα</td>\n",
       "      <td>προεδρευων</td>\n",
       "      <td>Παρακαλείται ο Γραμματέας κ. Βουλγαράκης να σ...</td>\n",
       "    </tr>\n",
       "    <tr>\n",
       "      <th>1</th>\n",
       "      <td>κρητικος νικολαου παναγιωτης</td>\n",
       "      <td>1989-07-03</td>\n",
       "      <td>period 5</td>\n",
       "      <td>session 1</td>\n",
       "      <td>sitting 1</td>\n",
       "      <td>πανελληνιο σοσιαλιστικο κινημα</td>\n",
       "      <td>προεδρευων</td>\n",
       "      <td>Παρακαλείται ο κύριος Γραμματέας να συνοδεύσε...</td>\n",
       "    </tr>\n",
       "    <tr>\n",
       "      <th>2</th>\n",
       "      <td>κρητικος νικολαου παναγιωτης</td>\n",
       "      <td>1989-07-03</td>\n",
       "      <td>period 5</td>\n",
       "      <td>session 1</td>\n",
       "      <td>sitting 1</td>\n",
       "      <td>πανελληνιο σοσιαλιστικο κινημα</td>\n",
       "      <td>προεδρευων</td>\n",
       "      <td>Κύριοι συνάδελφοι, παρακαλώ τη Βουλή να εξουσ...</td>\n",
       "    </tr>\n",
       "    <tr>\n",
       "      <th>3</th>\n",
       "      <td>NaN</td>\n",
       "      <td>1989-07-03</td>\n",
       "      <td>period 5</td>\n",
       "      <td>session 1</td>\n",
       "      <td>sitting 1</td>\n",
       "      <td>βουλη</td>\n",
       "      <td>βουλευτης/ες</td>\n",
       "      <td>Μάλιστα, μάλιστα.</td>\n",
       "    </tr>\n",
       "    <tr>\n",
       "      <th>4</th>\n",
       "      <td>κρητικος νικολαου παναγιωτης</td>\n",
       "      <td>1989-07-03</td>\n",
       "      <td>period 5</td>\n",
       "      <td>session 1</td>\n",
       "      <td>sitting 1</td>\n",
       "      <td>πανελληνιο σοσιαλιστικο κινημα</td>\n",
       "      <td>προεδρευων</td>\n",
       "      <td>Η Βουλή παρέσχε τη ζητηθείσα εξουσιοδότηση. Μ...</td>\n",
       "    </tr>\n",
       "  </tbody>\n",
       "</table>\n",
       "</div>"
      ],
      "text/plain": [
       "                    member_name sitting_date parliamentary_period  \\\n",
       "0  κρητικος νικολαου παναγιωτης   1989-07-03             period 5   \n",
       "1  κρητικος νικολαου παναγιωτης   1989-07-03             period 5   \n",
       "2  κρητικος νικολαου παναγιωτης   1989-07-03             period 5   \n",
       "3                           NaN   1989-07-03             period 5   \n",
       "4  κρητικος νικολαου παναγιωτης   1989-07-03             period 5   \n",
       "\n",
       "  parliamentary_session parliamentary_sitting                 political_party  \\\n",
       "0             session 1             sitting 1  πανελληνιο σοσιαλιστικο κινημα   \n",
       "1             session 1             sitting 1  πανελληνιο σοσιαλιστικο κινημα   \n",
       "2             session 1             sitting 1  πανελληνιο σοσιαλιστικο κινημα   \n",
       "3             session 1             sitting 1                           βουλη   \n",
       "4             session 1             sitting 1  πανελληνιο σοσιαλιστικο κινημα   \n",
       "\n",
       "   speaker_info                                             speech  \n",
       "0    προεδρευων   Παρακαλείται ο Γραμματέας κ. Βουλγαράκης να σ...  \n",
       "1    προεδρευων   Παρακαλείται ο κύριος Γραμματέας να συνοδεύσε...  \n",
       "2    προεδρευων   Κύριοι συνάδελφοι, παρακαλώ τη Βουλή να εξουσ...  \n",
       "3  βουλευτης/ες                                  Μάλιστα, μάλιστα.  \n",
       "4    προεδρευων   Η Βουλή παρέσχε τη ζητηθείσα εξουσιοδότηση. Μ...  "
      ]
     },
     "execution_count": 2,
     "metadata": {},
     "output_type": "execute_result"
    }
   ],
   "source": [
    "data=pd.read_csv(\"Greek_Parliament_Proceedings_1989_2019.csv\")\n",
    "data.head()"
   ]
  },
  {
   "cell_type": "markdown",
   "metadata": {},
   "source": [
    "* We print the political parties from all the dataset.\n",
    "* we can observe that there are some observations that they are not politcal parties.\n",
    "* Also, there are some political parties which appear twice with a slighlty different name.\n"
   ]
  },
  {
   "cell_type": "code",
   "execution_count": 3,
   "metadata": {},
   "outputs": [
    {
     "data": {
      "text/plain": [
       "array(['πανελληνιο σοσιαλιστικο κινημα', 'βουλη', 'νεα δημοκρατια',\n",
       "       'κομμουνιστικο κομμα ελλαδας εσωτερικου',\n",
       "       'κομμουνιστικο κομμα ελλαδας',\n",
       "       'συνασπισμος της αριστερας των κινηματων και της οικολογιας', nan,\n",
       "       'λαικος ορθοδοξος συναγερμος',\n",
       "       'οικολογοι εναλλακτικοι (ομοσπονδια οικολογικων εναλλακτικων οργανωσεων)',\n",
       "       'ανεξαρτητοι (εκτος κομματος)', 'δημοκρατικη ανανεωση',\n",
       "       'αντιπολιτευση', 'πολιτικη ανοιξη', 'δημοκρατικο κοινωνικο κινημα',\n",
       "       'συνασπισμος ριζοσπαστικης αριστερας', 'δημοκρατικη αριστερα',\n",
       "       'ανεξαρτητοι ελληνες - πανος καμμενος',\n",
       "       'ανεξαρτητοι δημοκρατικοι βουλευτες',\n",
       "       'λαικος συνδεσος - χρυση αυγη', 'το ποταμι',\n",
       "       'ανεξαρτητοι ελληνες εθνικη πατριωτικη δημοκρατικη συμμαχια',\n",
       "       'λαικη ενοτητα',\n",
       "       'δημοκρατικη συμπαραταξη (πανελληνιο σοσιαλιστικο κινημα - δημοκρατικη αριστερα)',\n",
       "       'ενωση κεντρωων'], dtype=object)"
      ]
     },
     "execution_count": 3,
     "metadata": {},
     "output_type": "execute_result"
    }
   ],
   "source": [
    "data['political_party'].unique()"
   ]
  },
  {
   "cell_type": "markdown",
   "metadata": {},
   "source": [
    "* We create a table with the speeches per politcal party in order to have a more analytical approach about the distribution of the speeches per party in the dataset."
   ]
  },
  {
   "cell_type": "code",
   "execution_count": 4,
   "metadata": {},
   "outputs": [
    {
     "data": {
      "text/html": [
       "<div>\n",
       "<style scoped>\n",
       "    .dataframe tbody tr th:only-of-type {\n",
       "        vertical-align: middle;\n",
       "    }\n",
       "\n",
       "    .dataframe tbody tr th {\n",
       "        vertical-align: top;\n",
       "    }\n",
       "\n",
       "    .dataframe thead th {\n",
       "        text-align: right;\n",
       "    }\n",
       "</style>\n",
       "<table border=\"1\" class=\"dataframe\">\n",
       "  <thead>\n",
       "    <tr style=\"text-align: right;\">\n",
       "      <th></th>\n",
       "      <th>speech</th>\n",
       "    </tr>\n",
       "    <tr>\n",
       "      <th>political_party</th>\n",
       "      <th></th>\n",
       "    </tr>\n",
       "  </thead>\n",
       "  <tbody>\n",
       "    <tr>\n",
       "      <th>νεα δημοκρατια</th>\n",
       "      <td>385634</td>\n",
       "    </tr>\n",
       "    <tr>\n",
       "      <th>πανελληνιο σοσιαλιστικο κινημα</th>\n",
       "      <td>377680</td>\n",
       "    </tr>\n",
       "    <tr>\n",
       "      <th>συνασπισμος ριζοσπαστικης αριστερας</th>\n",
       "      <td>126572</td>\n",
       "    </tr>\n",
       "    <tr>\n",
       "      <th>κομμουνιστικο κομμα ελλαδας</th>\n",
       "      <td>78631</td>\n",
       "    </tr>\n",
       "    <tr>\n",
       "      <th>βουλη</th>\n",
       "      <td>45876</td>\n",
       "    </tr>\n",
       "    <tr>\n",
       "      <th>συνασπισμος της αριστερας των κινηματων και της οικολογιας</th>\n",
       "      <td>35891</td>\n",
       "    </tr>\n",
       "    <tr>\n",
       "      <th>ανεξαρτητοι (εκτος κομματος)</th>\n",
       "      <td>29951</td>\n",
       "    </tr>\n",
       "    <tr>\n",
       "      <th>λαικος ορθοδοξος συναγερμος</th>\n",
       "      <td>23686</td>\n",
       "    </tr>\n",
       "    <tr>\n",
       "      <th>δημοκρατικη συμπαραταξη (πανελληνιο σοσιαλιστικο κινημα - δημοκρατικη αριστερα)</th>\n",
       "      <td>22991</td>\n",
       "    </tr>\n",
       "    <tr>\n",
       "      <th>λαικος συνδεσος - χρυση αυγη</th>\n",
       "      <td>14172</td>\n",
       "    </tr>\n",
       "    <tr>\n",
       "      <th>ανεξαρτητοι ελληνες - πανος καμμενος</th>\n",
       "      <td>13785</td>\n",
       "    </tr>\n",
       "    <tr>\n",
       "      <th>ενωση κεντρωων</th>\n",
       "      <td>9888</td>\n",
       "    </tr>\n",
       "    <tr>\n",
       "      <th>το ποταμι</th>\n",
       "      <td>7672</td>\n",
       "    </tr>\n",
       "    <tr>\n",
       "      <th>δημοκρατικο κοινωνικο κινημα</th>\n",
       "      <td>6056</td>\n",
       "    </tr>\n",
       "    <tr>\n",
       "      <th>ανεξαρτητοι ελληνες εθνικη πατριωτικη δημοκρατικη συμμαχια</th>\n",
       "      <td>5521</td>\n",
       "    </tr>\n",
       "    <tr>\n",
       "      <th>δημοκρατικη αριστερα</th>\n",
       "      <td>4204</td>\n",
       "    </tr>\n",
       "    <tr>\n",
       "      <th>πολιτικη ανοιξη</th>\n",
       "      <td>3384</td>\n",
       "    </tr>\n",
       "    <tr>\n",
       "      <th>ανεξαρτητοι δημοκρατικοι βουλευτες</th>\n",
       "      <td>1769</td>\n",
       "    </tr>\n",
       "    <tr>\n",
       "      <th>λαικη ενοτητα</th>\n",
       "      <td>346</td>\n",
       "    </tr>\n",
       "    <tr>\n",
       "      <th>οικολογοι εναλλακτικοι (ομοσπονδια οικολογικων εναλλακτικων οργανωσεων)</th>\n",
       "      <td>307</td>\n",
       "    </tr>\n",
       "    <tr>\n",
       "      <th>κομμουνιστικο κομμα ελλαδας εσωτερικου</th>\n",
       "      <td>202</td>\n",
       "    </tr>\n",
       "    <tr>\n",
       "      <th>αντιπολιτευση</th>\n",
       "      <td>11</td>\n",
       "    </tr>\n",
       "    <tr>\n",
       "      <th>δημοκρατικη ανανεωση</th>\n",
       "      <td>6</td>\n",
       "    </tr>\n",
       "  </tbody>\n",
       "</table>\n",
       "</div>"
      ],
      "text/plain": [
       "                                                    speech\n",
       "political_party                                           \n",
       "νεα δημοκρατια                                      385634\n",
       "πανελληνιο σοσιαλιστικο κινημα                      377680\n",
       "συνασπισμος ριζοσπαστικης αριστερας                 126572\n",
       "κομμουνιστικο κομμα ελλαδας                          78631\n",
       "βουλη                                                45876\n",
       "συνασπισμος της αριστερας των κινηματων και της...   35891\n",
       "ανεξαρτητοι (εκτος κομματος)                         29951\n",
       "λαικος ορθοδοξος συναγερμος                          23686\n",
       "δημοκρατικη συμπαραταξη (πανελληνιο σοσιαλιστικ...   22991\n",
       "λαικος συνδεσος - χρυση αυγη                         14172\n",
       "ανεξαρτητοι ελληνες - πανος καμμενος                 13785\n",
       "ενωση κεντρωων                                        9888\n",
       "το ποταμι                                             7672\n",
       "δημοκρατικο κοινωνικο κινημα                          6056\n",
       "ανεξαρτητοι ελληνες εθνικη πατριωτικη δημοκρατι...    5521\n",
       "δημοκρατικη αριστερα                                  4204\n",
       "πολιτικη ανοιξη                                       3384\n",
       "ανεξαρτητοι δημοκρατικοι βουλευτες                    1769\n",
       "λαικη ενοτητα                                          346\n",
       "οικολογοι εναλλακτικοι (ομοσπονδια οικολογικων ...     307\n",
       "κομμουνιστικο κομμα ελλαδας εσωτερικου                 202\n",
       "αντιπολιτευση                                           11\n",
       "δημοκρατικη ανανεωση                                     6"
      ]
     },
     "execution_count": 4,
     "metadata": {},
     "output_type": "execute_result"
    }
   ],
   "source": [
    "data.groupby('political_party')['speech'].count().to_frame().sort_values(by='speech',ascending=False)\n"
   ]
  },
  {
   "cell_type": "markdown",
   "metadata": {},
   "source": [
    "* We convert the column of the dates from strings to datetime objects and we create a new column with the year of the speech."
   ]
  },
  {
   "cell_type": "code",
   "execution_count": 5,
   "metadata": {},
   "outputs": [],
   "source": [
    "data['sitting_date']=pd.to_datetime(data['sitting_date'])\n",
    "data['year'] = data['sitting_date'].dt.year"
   ]
  },
  {
   "cell_type": "markdown",
   "metadata": {},
   "source": [
    "* We create a table with the speeches per year.\n",
    "* we plot this table in order to have a better idea about the distribution of the speeches during the years."
   ]
  },
  {
   "cell_type": "code",
   "execution_count": 6,
   "metadata": {},
   "outputs": [
    {
     "data": {
      "text/plain": [
       "<matplotlib.axes._subplots.AxesSubplot at 0x14a8d6dfc70>"
      ]
     },
     "execution_count": 6,
     "metadata": {},
     "output_type": "execute_result"
    },
    {
     "data": {
      "image/png": "[encoded data removed]",
      "text/plain": [
       "<Figure size 1440x720 with 1 Axes>"
      ]
     },
     "metadata": {
      "needs_background": "light"
     },
     "output_type": "display_data"
    }
   ],
   "source": [
    "speech_years=data.groupby('year')['speech'].count().to_frame()\n",
    "speech_years.plot(kind='bar', color=('deepskyblue'), figsize=(20, 10),rot=0,\n",
    "               title='Total speeches per year')"
   ]
  },
  {
   "cell_type": "markdown",
   "metadata": {},
   "source": [
    "* Also , we create a table with the number of speeakers per political party."
   ]
  },
  {
   "cell_type": "code",
   "execution_count": 7,
   "metadata": {},
   "outputs": [
    {
     "data": {
      "text/html": [
       "<div>\n",
       "<style scoped>\n",
       "    .dataframe tbody tr th:only-of-type {\n",
       "        vertical-align: middle;\n",
       "    }\n",
       "\n",
       "    .dataframe tbody tr th {\n",
       "        vertical-align: top;\n",
       "    }\n",
       "\n",
       "    .dataframe thead th {\n",
       "        text-align: right;\n",
       "    }\n",
       "</style>\n",
       "<table border=\"1\" class=\"dataframe\">\n",
       "  <thead>\n",
       "    <tr style=\"text-align: right;\">\n",
       "      <th></th>\n",
       "      <th>member_name</th>\n",
       "    </tr>\n",
       "    <tr>\n",
       "      <th>political_party</th>\n",
       "      <th></th>\n",
       "    </tr>\n",
       "  </thead>\n",
       "  <tbody>\n",
       "    <tr>\n",
       "      <th>νεα δημοκρατια</th>\n",
       "      <td>448</td>\n",
       "    </tr>\n",
       "    <tr>\n",
       "      <th>πανελληνιο σοσιαλιστικο κινημα</th>\n",
       "      <td>435</td>\n",
       "    </tr>\n",
       "    <tr>\n",
       "      <th>συνασπισμος ριζοσπαστικης αριστερας</th>\n",
       "      <td>212</td>\n",
       "    </tr>\n",
       "    <tr>\n",
       "      <th>ανεξαρτητοι (εκτος κομματος)</th>\n",
       "      <td>122</td>\n",
       "    </tr>\n",
       "    <tr>\n",
       "      <th>κομμουνιστικο κομμα ελλαδας</th>\n",
       "      <td>58</td>\n",
       "    </tr>\n",
       "    <tr>\n",
       "      <th>συνασπισμος της αριστερας των κινηματων και της οικολογιας</th>\n",
       "      <td>41</td>\n",
       "    </tr>\n",
       "    <tr>\n",
       "      <th>λαικος συνδεσος - χρυση αυγη</th>\n",
       "      <td>26</td>\n",
       "    </tr>\n",
       "    <tr>\n",
       "      <th>ανεξαρτητοι ελληνες - πανος καμμενος</th>\n",
       "      <td>22</td>\n",
       "    </tr>\n",
       "    <tr>\n",
       "      <th>λαικος ορθοδοξος συναγερμος</th>\n",
       "      <td>19</td>\n",
       "    </tr>\n",
       "    <tr>\n",
       "      <th>δημοκρατικη αριστερα</th>\n",
       "      <td>19</td>\n",
       "    </tr>\n",
       "    <tr>\n",
       "      <th>δημοκρατικη συμπαραταξη (πανελληνιο σοσιαλιστικο κινημα - δημοκρατικη αριστερα)</th>\n",
       "      <td>19</td>\n",
       "    </tr>\n",
       "    <tr>\n",
       "      <th>το ποταμι</th>\n",
       "      <td>18</td>\n",
       "    </tr>\n",
       "    <tr>\n",
       "      <th>ανεξαρτητοι ελληνες εθνικη πατριωτικη δημοκρατικη συμμαχια</th>\n",
       "      <td>15</td>\n",
       "    </tr>\n",
       "    <tr>\n",
       "      <th>ανεξαρτητοι δημοκρατικοι βουλευτες</th>\n",
       "      <td>14</td>\n",
       "    </tr>\n",
       "    <tr>\n",
       "      <th>λαικη ενοτητα</th>\n",
       "      <td>12</td>\n",
       "    </tr>\n",
       "    <tr>\n",
       "      <th>πολιτικη ανοιξη</th>\n",
       "      <td>10</td>\n",
       "    </tr>\n",
       "    <tr>\n",
       "      <th>ενωση κεντρωων</th>\n",
       "      <td>9</td>\n",
       "    </tr>\n",
       "    <tr>\n",
       "      <th>δημοκρατικο κοινωνικο κινημα</th>\n",
       "      <td>9</td>\n",
       "    </tr>\n",
       "    <tr>\n",
       "      <th>οικολογοι εναλλακτικοι (ομοσπονδια οικολογικων εναλλακτικων οργανωσεων)</th>\n",
       "      <td>3</td>\n",
       "    </tr>\n",
       "    <tr>\n",
       "      <th>κομμουνιστικο κομμα ελλαδας εσωτερικου</th>\n",
       "      <td>1</td>\n",
       "    </tr>\n",
       "    <tr>\n",
       "      <th>δημοκρατικη ανανεωση</th>\n",
       "      <td>1</td>\n",
       "    </tr>\n",
       "    <tr>\n",
       "      <th>αντιπολιτευση</th>\n",
       "      <td>0</td>\n",
       "    </tr>\n",
       "    <tr>\n",
       "      <th>βουλη</th>\n",
       "      <td>0</td>\n",
       "    </tr>\n",
       "  </tbody>\n",
       "</table>\n",
       "</div>"
      ],
      "text/plain": [
       "                                                    member_name\n",
       "political_party                                                \n",
       "νεα δημοκρατια                                              448\n",
       "πανελληνιο σοσιαλιστικο κινημα                              435\n",
       "συνασπισμος ριζοσπαστικης αριστερας                         212\n",
       "ανεξαρτητοι (εκτος κομματος)                                122\n",
       "κομμουνιστικο κομμα ελλαδας                                  58\n",
       "συνασπισμος της αριστερας των κινηματων και της...           41\n",
       "λαικος συνδεσος - χρυση αυγη                                 26\n",
       "ανεξαρτητοι ελληνες - πανος καμμενος                         22\n",
       "λαικος ορθοδοξος συναγερμος                                  19\n",
       "δημοκρατικη αριστερα                                         19\n",
       "δημοκρατικη συμπαραταξη (πανελληνιο σοσιαλιστικ...           19\n",
       "το ποταμι                                                    18\n",
       "ανεξαρτητοι ελληνες εθνικη πατριωτικη δημοκρατι...           15\n",
       "ανεξαρτητοι δημοκρατικοι βουλευτες                           14\n",
       "λαικη ενοτητα                                                12\n",
       "πολιτικη ανοιξη                                              10\n",
       "ενωση κεντρωων                                                9\n",
       "δημοκρατικο κοινωνικο κινημα                                  9\n",
       "οικολογοι εναλλακτικοι (ομοσπονδια οικολογικων ...            3\n",
       "κομμουνιστικο κομμα ελλαδας εσωτερικου                        1\n",
       "δημοκρατικη ανανεωση                                          1\n",
       "αντιπολιτευση                                                 0\n",
       "βουλη                                                         0"
      ]
     },
     "execution_count": 7,
     "metadata": {},
     "output_type": "execute_result"
    }
   ],
   "source": [
    "data.groupby('political_party')['member_name'].nunique().to_frame().sort_values(by='member_name',ascending=False)"
   ]
  },
  {
   "cell_type": "markdown",
   "metadata": {},
   "source": [
    "* Since our dataset is too large, we decide keep only the last four years which is approximately 200 thousands observations which is an adequate number in order to reduce the execution time."
   ]
  },
  {
   "cell_type": "code",
   "execution_count": 8,
   "metadata": {},
   "outputs": [
    {
     "name": "stdout",
     "output_type": "stream",
     "text": [
      "(208090, 9)\n"
     ]
    }
   ],
   "source": [
    "data=data.loc[data['year']>2014]\n",
    "print(data.shape)"
   ]
  },
  {
   "cell_type": "markdown",
   "metadata": {},
   "source": [
    "* From the following graph, we can observe the amount of speeches per year.\n",
    "* It seems that number of speeches on 2016 , it was the largest in these 4 years while for the 2019 there weren't so much data."
   ]
  },
  {
   "cell_type": "code",
   "execution_count": 9,
   "metadata": {},
   "outputs": [
    {
     "data": {
      "text/plain": [
       "<matplotlib.axes._subplots.AxesSubplot at 0x14a8d803d90>"
      ]
     },
     "execution_count": 9,
     "metadata": {},
     "output_type": "execute_result"
    },
    {
     "data": {
      "image/png": "[encoded data removed]",
      "text/plain": [
       "<Figure size 720x720 with 1 Axes>"
      ]
     },
     "metadata": {
      "needs_background": "light"
     },
     "output_type": "display_data"
    }
   ],
   "source": [
    "speech=data.groupby(['year'])['speech'].count().to_frame()\n",
    "speech.plot(kind='bar', color=('deepskyblue'), figsize=(10,10),rot=0,\n",
    "               title='Total speeches per year',fontsize=15)"
   ]
  },
  {
   "cell_type": "markdown",
   "metadata": {},
   "source": [
    "* Also, we create a table with the number of speeches per political party and we choose a plot to visualize it in order to understand better the differences between the political parties. \n",
    "* We can observe that most of the politcal parties are above the 10000 observations.\n",
    "* We might remove from the model those political parties who have few observations , since it will be difficult to be classified."
   ]
  },
  {
   "cell_type": "code",
   "execution_count": 10,
   "metadata": {},
   "outputs": [
    {
     "data": {
      "text/html": [
       "<div>\n",
       "<style scoped>\n",
       "    .dataframe tbody tr th:only-of-type {\n",
       "        vertical-align: middle;\n",
       "    }\n",
       "\n",
       "    .dataframe tbody tr th {\n",
       "        vertical-align: top;\n",
       "    }\n",
       "\n",
       "    .dataframe thead th {\n",
       "        text-align: right;\n",
       "    }\n",
       "</style>\n",
       "<table border=\"1\" class=\"dataframe\">\n",
       "  <thead>\n",
       "    <tr style=\"text-align: right;\">\n",
       "      <th></th>\n",
       "      <th>speech</th>\n",
       "    </tr>\n",
       "    <tr>\n",
       "      <th>political_party</th>\n",
       "      <th></th>\n",
       "    </tr>\n",
       "  </thead>\n",
       "  <tbody>\n",
       "    <tr>\n",
       "      <th>συνασπισμος ριζοσπαστικης αριστερας</th>\n",
       "      <td>71714</td>\n",
       "    </tr>\n",
       "    <tr>\n",
       "      <th>νεα δημοκρατια</th>\n",
       "      <td>40171</td>\n",
       "    </tr>\n",
       "    <tr>\n",
       "      <th>δημοκρατικη συμπαραταξη (πανελληνιο σοσιαλιστικο κινημα - δημοκρατικη αριστερα)</th>\n",
       "      <td>22991</td>\n",
       "    </tr>\n",
       "    <tr>\n",
       "      <th>κομμουνιστικο κομμα ελλαδας</th>\n",
       "      <td>18924</td>\n",
       "    </tr>\n",
       "    <tr>\n",
       "      <th>ανεξαρτητοι (εκτος κομματος)</th>\n",
       "      <td>14029</td>\n",
       "    </tr>\n",
       "    <tr>\n",
       "      <th>λαικος συνδεσος - χρυση αυγη</th>\n",
       "      <td>10419</td>\n",
       "    </tr>\n",
       "    <tr>\n",
       "      <th>ενωση κεντρωων</th>\n",
       "      <td>9888</td>\n",
       "    </tr>\n",
       "    <tr>\n",
       "      <th>το ποταμι</th>\n",
       "      <td>7672</td>\n",
       "    </tr>\n",
       "    <tr>\n",
       "      <th>ανεξαρτητοι ελληνες εθνικη πατριωτικη δημοκρατικη συμμαχια</th>\n",
       "      <td>5521</td>\n",
       "    </tr>\n",
       "    <tr>\n",
       "      <th>βουλη</th>\n",
       "      <td>3851</td>\n",
       "    </tr>\n",
       "    <tr>\n",
       "      <th>πανελληνιο σοσιαλιστικο κινημα</th>\n",
       "      <td>2557</td>\n",
       "    </tr>\n",
       "    <tr>\n",
       "      <th>λαικη ενοτητα</th>\n",
       "      <td>346</td>\n",
       "    </tr>\n",
       "    <tr>\n",
       "      <th>λαικος ορθοδοξος συναγερμος</th>\n",
       "      <td>3</td>\n",
       "    </tr>\n",
       "  </tbody>\n",
       "</table>\n",
       "</div>"
      ],
      "text/plain": [
       "                                                    speech\n",
       "political_party                                           \n",
       "συνασπισμος ριζοσπαστικης αριστερας                  71714\n",
       "νεα δημοκρατια                                       40171\n",
       "δημοκρατικη συμπαραταξη (πανελληνιο σοσιαλιστικ...   22991\n",
       "κομμουνιστικο κομμα ελλαδας                          18924\n",
       "ανεξαρτητοι (εκτος κομματος)                         14029\n",
       "λαικος συνδεσος - χρυση αυγη                         10419\n",
       "ενωση κεντρωων                                        9888\n",
       "το ποταμι                                             7672\n",
       "ανεξαρτητοι ελληνες εθνικη πατριωτικη δημοκρατι...    5521\n",
       "βουλη                                                 3851\n",
       "πανελληνιο σοσιαλιστικο κινημα                        2557\n",
       "λαικη ενοτητα                                          346\n",
       "λαικος ορθοδοξος συναγερμος                              3"
      ]
     },
     "execution_count": 10,
     "metadata": {},
     "output_type": "execute_result"
    }
   ],
   "source": [
    "over14=data.groupby(['political_party'])['speech'].count().to_frame().sort_values(by='speech',ascending=False)\n",
    "over14"
   ]
  },
  {
   "cell_type": "code",
   "execution_count": 11,
   "metadata": {},
   "outputs": [
    {
     "data": {
      "text/plain": [
       "<matplotlib.axes._subplots.AxesSubplot at 0x14a88db2070>"
      ]
     },
     "execution_count": 11,
     "metadata": {},
     "output_type": "execute_result"
    },
    {
     "data": {
      "image/png": "[encoded data removed]",
      "text/plain": [
       "<Figure size 1080x1080 with 1 Axes>"
      ]
     },
     "metadata": {
      "needs_background": "light"
     },
     "output_type": "display_data"
    }
   ],
   "source": [
    "\n",
    "data.groupby(['political_party'])['speech'].count().to_frame().sort_values(by='speech',ascending=True)\\\n",
    ".plot(kind='barh', color=('deepskyblue'), figsize=(15,15),rot=0,\n",
    "               title='Total speeches per political party',fontsize=18)"
   ]
  },
  {
   "cell_type": "markdown",
   "metadata": {},
   "source": [
    "Also, we create a plot with the members per political party in which we can observe that 'συνασπιμος  ριζοσπαστικης αριστερας and νεα δημοκρατια have the most members in comparison to other political parties."
   ]
  },
  {
   "cell_type": "code",
   "execution_count": 12,
   "metadata": {},
   "outputs": [
    {
     "data": {
      "text/plain": [
       "<matplotlib.axes._subplots.AxesSubplot at 0x14a88e3a0d0>"
      ]
     },
     "execution_count": 12,
     "metadata": {},
     "output_type": "execute_result"
    },
    {
     "data": {
      "image/png": "[encoded data removed]",
      "text/plain": [
       "<Figure size 1080x1080 with 1 Axes>"
      ]
     },
     "metadata": {
      "needs_background": "light"
     },
     "output_type": "display_data"
    }
   ],
   "source": [
    "members=data.groupby('political_party')['member_name'].nunique().to_frame().sort_values(by='member_name',ascending=True)\n",
    "members.plot(kind='barh', color=('deepskyblue'), figsize=(15,15),rot=0,\n",
    "               title='Total members per political party',fontsize=18)"
   ]
  },
  {
   "cell_type": "markdown",
   "metadata": {},
   "source": [
    "* From our previous analysis and the results that we took during our tests ,we decided to exclude from the dataset some political parties which they do not have enough observations since the algorithm was unable to get results for it.These plotical parties are λαικη ενοτητα, ενωση κεντρωων, το ποταμι, ανεξαρτητοι ελληνες εθνικη πατριωτικη δημοκρατικη συμμαχια , λαικος ορθοδοξος συναγερμο.During our testing,these political parties because of the small number of observations  had a really low recall number which affected the f1 score.\n",
    "\n",
    "* Also,we exclude 'ανεξαρτητοι (εκτος κομματος)' and 'ανεξαρτητοι δημοκρατικοι βουλευτες' since there are independent members and it will be difficult for the algorithm to classify them since they are not from one political party and have different beliefs.\n"
   ]
  },
  {
   "cell_type": "code",
   "execution_count": 14,
   "metadata": {},
   "outputs": [],
   "source": [
    "data=data.loc[data['political_party']!= 'βουλη']\n",
    "data=data.loc[data['political_party']!= 'ανεξαρτητοι (εκτος κομματος)']\n",
    "data=data.loc[data['political_party']!= 'λαικος ορθοδοξος συναγερμος']\n",
    "data=data.loc[data['political_party']!= 'ανεξαρτητοι δημοκρατικοι βουλευτες']\n",
    "data=data.loc[data['political_party']!= 'λαικη ενοτητα']\n",
    "data=data.loc[data['political_party']!= 'ενωση κεντρωων']\n",
    "data=data.loc[data['political_party']!= 'το ποταμι']\n",
    "data=data.loc[data['political_party']!= 'ανεξαρτητοι ελληνες εθνικη πατριωτικη δημοκρατικη συμμαχια']"
   ]
  },
  {
   "cell_type": "markdown",
   "metadata": {},
   "source": [
    "* we decide to replace 'πανελληνιο σοσιαλιστικο κινημα' and 'δημοκρατικη αριστερα' with 'δημοκρατικη συμπαραταξη (πανελληνιο σοσιαλιστικο κινημα - δημοκρατικη αριστερα)' since those two politcal parties were partnered and represent one politcal party."
   ]
  },
  {
   "cell_type": "code",
   "execution_count": 15,
   "metadata": {},
   "outputs": [
    {
     "name": "stderr",
     "output_type": "stream",
     "text": [
      "C:\\Users\\georg\\anaconda3\\lib\\site-packages\\pandas\\core\\indexing.py:1637: SettingWithCopyWarning: \n",
      "A value is trying to be set on a copy of a slice from a DataFrame\n",
      "\n",
      "See the caveats in the documentation: https://pandas.pydata.org/pandas-docs/stable/user_guide/indexing.html#returning-a-view-versus-a-copy\n",
      "  self._setitem_single_block(indexer, value, name)\n"
     ]
    }
   ],
   "source": [
    "data['political_party'].loc[data['political_party'] == 'πανελληνιο σοσιαλιστικο κινημα']='δημοκρατικη συμπαραταξη (πανελληνιο σοσιαλιστικο κινημα - δημοκρατικη αριστερα)'\n",
    "data['political_party'].loc[data['political_party'] == 'δημοκρατικη αριστερα']='δημοκρατικη συμπαραταξη (πανελληνιο σοσιαλιστικο κινημα - δημοκρατικη αριστερα)'\n"
   ]
  },
  {
   "cell_type": "markdown",
   "metadata": {},
   "source": [
    "* we delete any not available observations from the column with the speeches and the politcal parties."
   ]
  },
  {
   "cell_type": "code",
   "execution_count": 16,
   "metadata": {},
   "outputs": [],
   "source": [
    "data = data[data['political_party'].notna()]\n",
    "data = data[data['speech'].notna()]"
   ]
  },
  {
   "cell_type": "markdown",
   "metadata": {},
   "source": [
    "* We separate the data in training set and test set by keeping the 80% for training and the 20% of the dataset for testing."
   ]
  },
  {
   "cell_type": "code",
   "execution_count": 17,
   "metadata": {},
   "outputs": [],
   "source": [
    "X_train, X_test, y_train, y_test = train_test_split(data['speech'], data['political_party'], test_size= 0.2, random_state=1)"
   ]
  },
  {
   "cell_type": "markdown",
   "metadata": {},
   "source": [
    "We import the greek language package through the library spacy and in order to install the following package, we ran these commmands in the anacoda prompt\n",
    "* conda install -c conda-forge spacy\n",
    "* python -m spacy download el_core_news_sm\n",
    "* We load the greek language package through spacy.\n",
    "* We import from spacy the greek stop words which will use in our model in order to remove common words.\n",
    "* We will also use the word.lemma in order to leave only the base of greeks words.\n",
    "* Also, it should be mentioned that we used a lemmatizer function in our countvecorizer but it did not improve our score and because of its large running time we decided to exclude it from the model."
   ]
  },
  {
   "cell_type": "code",
   "execution_count": 18,
   "metadata": {},
   "outputs": [],
   "source": [
    "from spacy.lang.el import STOP_WORDS\n",
    "nlp = spacy.load(\"el_core_news_sm\")\n",
    "STOP_WORDS_PARLIAMENT=STOP_WORDS.union({'βουλη'})\n",
    "stop_words_str=''.join(STOP_WORDS_PARLIAMENT)\n",
    "stop_words_lemma= set(word.lemma for word in nlp(stop_words_str))\n",
    "\n",
    "def lemmatizer(text):\n",
    "    return [word.lemma_ for word in nlp(text)]"
   ]
  },
  {
   "cell_type": "markdown",
   "metadata": {},
   "source": [
    "* Next we are going to create a pipeline in which we include a countvectorizer that will convert the text into numbers and will remove common greek words.\n",
    "* Also, we use the tfidf transformer which will transform the count matrix to a tf-idf representation.\n",
    "* The last part of the pipeline wil be the logisitc regression algorithm for multiclass classification problems and with the 'saga' solver.\n",
    "* Then, we will fit the model to the training set and we will compute the training accuracy score.\n",
    "* We can observe that  the training accuracy is aproximately 0.625."
   ]
  },
  {
   "cell_type": "code",
   "execution_count": 19,
   "metadata": {},
   "outputs": [
    {
     "name": "stdout",
     "output_type": "stream",
     "text": [
      "training accuracy:0.6249287962824164\n"
     ]
    }
   ],
   "source": [
    "log=Pipeline([('vect',CountVectorizer(stop_words=stop_words_lemma)),\n",
    "               ('trans',TfidfTransformer()),\n",
    "               ('classifier',LogisticRegression(solver='saga',n_jobs=8))])\n",
    "log= log.fit(X_train, y_train)\n",
    "print('training accuracy:{}'.format(log.score(X_train,y_train)))"
   ]
  },
  {
   "cell_type": "markdown",
   "metadata": {},
   "source": [
    "Next we are going to implement 5 fold cross validation to our training set in order to check the efficiancy of the model."
   ]
  },
  {
   "cell_type": "code",
   "execution_count": 20,
   "metadata": {},
   "outputs": [
    {
     "data": {
      "text/plain": [
       "array([0.56408335, 0.55715035, 0.55411483, 0.56082297, 0.55973617])"
      ]
     },
     "execution_count": 20,
     "metadata": {},
     "output_type": "execute_result"
    }
   ],
   "source": [
    "from sklearn.model_selection import cross_val_score\n",
    "scores = cross_val_score(log, X_train, y_train, cv=5, scoring='accuracy')\n",
    "scores"
   ]
  },
  {
   "cell_type": "markdown",
   "metadata": {},
   "source": [
    "Now, we will test our model to testing dataset in order to understand how it is performing in unseen data.\n",
    "We can see that the accuracy score is 0.566."
   ]
  },
  {
   "cell_type": "code",
   "execution_count": 21,
   "metadata": {},
   "outputs": [
    {
     "name": "stdout",
     "output_type": "stream",
     "text": [
      "Accuracy Score ->  0.565925170883799\n"
     ]
    }
   ],
   "source": [
    "predictions_log = log.predict(X_test)\n",
    "# Use accuracy_score function to get the accuracy\n",
    "print(\"Accuracy Score -> \",accuracy_score(predictions_log, y_test))"
   ]
  },
  {
   "cell_type": "markdown",
   "metadata": {},
   "source": [
    "* Also, we are going to create a matrix with the precision, recall and f1 score results.\n",
    "* We can observe that the f1 score is better in the class with the most observations while there is small precision and especially smaller recall  in the other classes.\n",
    "\n"
   ]
  },
  {
   "cell_type": "code",
   "execution_count": 22,
   "metadata": {},
   "outputs": [
    {
     "name": "stdout",
     "output_type": "stream",
     "text": [
      "                                                                                 precision    recall  f1-score   support\n",
      "\n",
      "δημοκρατικη συμπαραταξη (πανελληνιο σοσιαλιστικο κινημα - δημοκρατικη αριστερα)       0.60      0.21      0.32      5072\n",
      "                                                    κομμουνιστικο κομμα ελλαδας       0.50      0.37      0.42      3774\n",
      "                                                   λαικος συνδεσος - χρυση αυγη       0.47      0.38      0.42      2104\n",
      "                                                                 νεα δημοκρατια       0.54      0.41      0.46      8131\n",
      "                                            συνασπισμος ριζοσπαστικης αριστερας       0.59      0.86      0.70     14275\n",
      "\n",
      "                                                                       accuracy                           0.57     33356\n",
      "                                                                      macro avg       0.54      0.45      0.46     33356\n",
      "                                                                   weighted avg       0.56      0.57      0.53     33356\n",
      "\n",
      "\n",
      "[[ 1081   296   149   856  2690]\n",
      " [   72  1381   449   353  1519]\n",
      " [   37   672   808   193   394]\n",
      " [  288   282   278  3328  3955]\n",
      " [  311   149    52  1484 12279]]\n"
     ]
    }
   ],
   "source": [
    "from sklearn import metrics\n",
    "print(metrics.classification_report(y_test, predictions_log))\n",
    "print()\n",
    "print(metrics.confusion_matrix(y_test, predictions_log))"
   ]
  },
  {
   "cell_type": "code",
   "execution_count": null,
   "metadata": {},
   "outputs": [],
   "source": []
  },
  {
   "cell_type": "markdown",
   "metadata": {},
   "source": [
    "* Next we are going to create another pipeline in which we include a countvectorizer which will convert the text into numbers and will remove some greek words.\n",
    "\n",
    "* Also, we will use again the tfidf transformer \n",
    "* The last part of this pipeline wil be the multinomial Naive Bayes algorithm.\n",
    "* Then, we will fit the model to the training set and we will compute the training accuracy score.\n",
    "* We can observe that the training accuracy is aproximately 0.48 which is lower than the previous model."
   ]
  },
  {
   "cell_type": "code",
   "execution_count": 23,
   "metadata": {},
   "outputs": [
    {
     "name": "stdout",
     "output_type": "stream",
     "text": [
      "training accuracy:0.47950082446409836\n"
     ]
    }
   ],
   "source": [
    "NB=Pipeline([('vect',CountVectorizer(stop_words=stop_words_lemma)),\n",
    "               ('trans',TfidfTransformer()),\n",
    "               ('classifier',MultinomialNB())])\n",
    "NB.fit(X_train,y_train)\n",
    "print('training accuracy:{}'.format(NB.score(X_train,y_train)))"
   ]
  },
  {
   "cell_type": "markdown",
   "metadata": {},
   "source": [
    "* We will also implement 5 fold cross validation to our training set in order to check the efficiancy of the model."
   ]
  },
  {
   "cell_type": "code",
   "execution_count": 24,
   "metadata": {},
   "outputs": [
    {
     "data": {
      "text/plain": [
       "array([0.46278669, 0.46537251, 0.46436067, 0.46451057, 0.46597212])"
      ]
     },
     "execution_count": 24,
     "metadata": {},
     "output_type": "execute_result"
    }
   ],
   "source": [
    "from sklearn.model_selection import cross_val_score\n",
    "scores = cross_val_score(NB, X_train, y_train, cv=5, scoring='accuracy')\n",
    "scores"
   ]
  },
  {
   "cell_type": "markdown",
   "metadata": {},
   "source": [
    "* Now, we will test our model to testing dataset in order to understand how it is performing in unseen data.\n",
    "* We can observe that the accuracy score is 0.46."
   ]
  },
  {
   "cell_type": "code",
   "execution_count": 38,
   "metadata": {},
   "outputs": [
    {
     "name": "stdout",
     "output_type": "stream",
     "text": [
      "Accuracy Score ->  0.46258544189950834\n"
     ]
    }
   ],
   "source": [
    "predictions_NB = NB.predict(X_test)\n",
    "# Use accuracy_score function to get the accuracy\n",
    "print(\"Accuracy Score -> \",accuracy_score(predictions_svc, y_test))"
   ]
  },
  {
   "cell_type": "markdown",
   "metadata": {},
   "source": [
    "* We are going to create a matrix with the precision, recall and f1 score results.\n",
    "* We can observe that the f1 score is better in the class with the most observations but all the political parties have lower f1-score in comparison with the logistic regression.\n",
    "* We can see for the confusion matrix that especially for the 'λαικος συνδεσος - χρυση αυγη' the algorthm was unabale to make correct predictions."
   ]
  },
  {
   "cell_type": "code",
   "execution_count": 39,
   "metadata": {},
   "outputs": [
    {
     "name": "stdout",
     "output_type": "stream",
     "text": [
      "                                                                                 precision    recall  f1-score   support\n",
      "\n",
      "δημοκρατικη συμπαραταξη (πανελληνιο σοσιαλιστικο κινημα - δημοκρατικη αριστερα)       0.90      0.01      0.01      5072\n",
      "                                                    κομμουνιστικο κομμα ελλαδας       0.36      0.17      0.23      3774\n",
      "                                                   λαικος συνδεσος - χρυση αυγη       1.00      0.00      0.00      2104\n",
      "                                                                 νεα δημοκρατια       0.31      0.08      0.13      8131\n",
      "                                            συνασπισμος ριζοσπαστικης αριστερας       0.48      0.99      0.65     14275\n",
      "\n",
      "                                                                       accuracy                           0.46     33356\n",
      "                                                                      macro avg       0.61      0.25      0.20     33356\n",
      "                                                                   weighted avg       0.52      0.46      0.34     33356\n",
      "\n",
      "\n",
      "[[   38   254     0   214  4566]\n",
      " [    1   634     0   472  2667]\n",
      " [    1   665     2   621   815]\n",
      " [    1   224     0   654  7252]\n",
      " [    1     0     0   172 14102]]\n"
     ]
    }
   ],
   "source": [
    "from sklearn import metrics\n",
    "print(metrics.classification_report(y_test, predictions_NB))\n",
    "print()\n",
    "print(metrics.confusion_matrix(y_test, predictions_NB))"
   ]
  },
  {
   "cell_type": "markdown",
   "metadata": {},
   "source": [
    "* Next we are going to create another pipeline in which we include a countvectorizer which will convert the text into numbers and the remove common greek words just like the previous cases.\n",
    "\n",
    "* Also, we will use again the tfidf transformer.\n",
    "\n",
    "* The last part of this pipeline wil be the stohastic gradient descent algorithm with a parameter alpha=0.001.\n",
    "\n",
    "* Then, we will fit the model to the training set and we will compute the training accuracy score.\n",
    "\n",
    "* We can observe that the training accuracy is aproximately 0.49."
   ]
  },
  {
   "cell_type": "code",
   "execution_count": 27,
   "metadata": {},
   "outputs": [
    {
     "name": "stdout",
     "output_type": "stream",
     "text": [
      "training accuracy:0.48748313596162496\n"
     ]
    }
   ],
   "source": [
    "sgdc=Pipeline([('vect',CountVectorizer(stop_words=stop_words_lemma)),\n",
    "               ('trans',TfidfTransformer()),\n",
    "               ('classifier',SGDClassifier(alpha=1e-3,random_state=42))])\n",
    "sgdc.fit(X_train,y_train)\n",
    "print('training accuracy:{}'.format(sgdc.score(X_train,y_train)))"
   ]
  },
  {
   "cell_type": "markdown",
   "metadata": {},
   "source": [
    "* We will also implement 5 fold cross validation to our training set in order to check the efficiancy of the model.\n",
    "* We can observe that the model has approximately identical results with the training set."
   ]
  },
  {
   "cell_type": "code",
   "execution_count": 28,
   "metadata": {},
   "outputs": [
    {
     "data": {
      "text/plain": [
       "array([0.4812247 , 0.48268625, 0.47331734, 0.48294858, 0.48002548])"
      ]
     },
     "execution_count": 28,
     "metadata": {},
     "output_type": "execute_result"
    }
   ],
   "source": [
    "from sklearn.model_selection import cross_val_score\n",
    "scores = cross_val_score(sgdc, X_train, y_train, cv=5, scoring='accuracy')\n",
    "scores"
   ]
  },
  {
   "cell_type": "markdown",
   "metadata": {},
   "source": [
    "* We test our model in the test dataset and we can see that there is not overffiting and the accuracy of the test set is bigger than MultinomialNB model but smaller than  logistic regression."
   ]
  },
  {
   "cell_type": "code",
   "execution_count": 29,
   "metadata": {},
   "outputs": [
    {
     "name": "stdout",
     "output_type": "stream",
     "text": [
      "Accuracy Score ->  0.48132270056361676\n"
     ]
    }
   ],
   "source": [
    "predictions_sgdc = sgdc.predict(X_test)\n",
    "# Use accuracy_score function to get the accuracy\n",
    "print(\"Accuracy Score -> \",accuracy_score(predictions_sgdc, y_test))"
   ]
  },
  {
   "cell_type": "markdown",
   "metadata": {},
   "source": [
    "* From the classification report we can have a more analytical view of the perfomance of our model.\n",
    "* Just like the Multinomial Naive Base model we can observe that the f1-score is bigger in the class with the most support.\n",
    "* Also, the model has not manage to classify well the other political parties since the recall metric is quite low."
   ]
  },
  {
   "cell_type": "code",
   "execution_count": 30,
   "metadata": {},
   "outputs": [
    {
     "name": "stdout",
     "output_type": "stream",
     "text": [
      "                                                                                 precision    recall  f1-score   support\n",
      "\n",
      "δημοκρατικη συμπαραταξη (πανελληνιο σοσιαλιστικο κινημα - δημοκρατικη αριστερα)       0.37      0.08      0.13      5072\n",
      "                                                    κομμουνιστικο κομμα ελλαδας       0.35      0.23      0.27      3774\n",
      "                                                   λαικος συνδεσος - χρυση αυγη       0.42      0.21      0.28      2104\n",
      "                                                                 νεα δημοκρατια       0.49      0.10      0.17      8131\n",
      "                                            συνασπισμος ριζοσπαστικης αριστερας       0.50      0.95      0.65     14275\n",
      "\n",
      "                                                                       accuracy                           0.48     33356\n",
      "                                                                      macro avg       0.42      0.31      0.30     33356\n",
      "                                                                   weighted avg       0.45      0.48      0.39     33356\n",
      "\n",
      "\n",
      "[[  388   323    85   361  3915]\n",
      " [   50   855   344   100  2425]\n",
      " [   26   888   441    58   691]\n",
      " [  276   354   171   832  6498]\n",
      " [  314    46    13   363 13539]]\n"
     ]
    }
   ],
   "source": [
    "from sklearn import metrics\n",
    "print(metrics.classification_report(y_test, predictions_sgdc))\n",
    "print()\n",
    "print(metrics.confusion_matrix(y_test, predictions_sgdc))"
   ]
  },
  {
   "cell_type": "markdown",
   "metadata": {},
   "source": [
    "* Since the Logistic Regression was the model with the best score among the 3 models, we will do  hyperparameter tuning to improve the predicted ability of the model.\n",
    "* We will use GridsearchCV with the following hyperparameters."
   ]
  },
  {
   "cell_type": "code",
   "execution_count": 31,
   "metadata": {},
   "outputs": [],
   "source": [
    "parameters = {'vect__ngram_range': [(1, 1), (1, 2)],\n",
    "              'trans__use_idf': (True, False),\n",
    "              'classifier__C': [0.1, 1.0, 10],\n",
    "              'classifier__max_iter':[100,200]}\n"
   ]
  },
  {
   "cell_type": "markdown",
   "metadata": {},
   "source": [
    "* We will use GridsearchCV with a 5 fold cross valdiation with the hyperparameters from above.\n",
    "* We will fit the gridsearch model and we will take a training accuracy 0.80."
   ]
  },
  {
   "cell_type": "code",
   "execution_count": 32,
   "metadata": {},
   "outputs": [
    {
     "name": "stdout",
     "output_type": "stream",
     "text": [
      "Fitting 5 folds for each of 24 candidates, totalling 120 fits\n",
      "training accuracy:0.8008619397391695\n"
     ]
    }
   ],
   "source": [
    "gs_log = GridSearchCV(log, parameters, n_jobs=6, cv=5,verbose=10)\n",
    "gs_log = gs_log.fit(X_train, y_train)\n",
    "print('training accuracy:{}'.format(gs_log.score(X_train,y_train)))"
   ]
  },
  {
   "cell_type": "markdown",
   "metadata": {},
   "source": [
    "We test the model from Gridsearch to the test set and we observe that there is overfitting since the accuracy score for the test is significantly smaller that the training accuracy.However,we can see that the model accuracy score has been improved.\n"
   ]
  },
  {
   "cell_type": "code",
   "execution_count": 33,
   "metadata": {},
   "outputs": [
    {
     "name": "stdout",
     "output_type": "stream",
     "text": [
      "Accuracy Score ->  0.5876603909341648\n"
     ]
    }
   ],
   "source": [
    "predictions_gslog = gs_log.predict(X_test)\n",
    "# Use accuracy_score function to get the accuracy\n",
    "print(\"Accuracy Score -> \",accuracy_score(predictions_gslog, y_test))"
   ]
  },
  {
   "cell_type": "markdown",
   "metadata": {},
   "source": [
    "* From the classification report we can observe that the f1-score for the other political parties has been increased."
   ]
  },
  {
   "cell_type": "code",
   "execution_count": 34,
   "metadata": {
    "scrolled": true
   },
   "outputs": [
    {
     "name": "stdout",
     "output_type": "stream",
     "text": [
      "                                                                                 precision    recall  f1-score   support\n",
      "\n",
      "δημοκρατικη συμπαραταξη (πανελληνιο σοσιαλιστικο κινημα - δημοκρατικη αριστερα)       0.60      0.29      0.39      5072\n",
      "                                                    κομμουνιστικο κομμα ελλαδας       0.51      0.44      0.47      3774\n",
      "                                                   λαικος συνδεσος - χρυση αυγη       0.48      0.42      0.45      2104\n",
      "                                                                 νεα δημοκρατια       0.56      0.46      0.50      8131\n",
      "                                            συνασπισμος ριζοσπαστικης αριστερας       0.62      0.83      0.71     14275\n",
      "\n",
      "                                                                       accuracy                           0.59     33356\n",
      "                                                                      macro avg       0.55      0.49      0.50     33356\n",
      "                                                                   weighted avg       0.58      0.59      0.57     33356\n",
      "\n"
     ]
    }
   ],
   "source": [
    "print(metrics.classification_report(y_test,predictions_gslog))\n"
   ]
  },
  {
   "cell_type": "markdown",
   "metadata": {},
   "source": [
    "* Also, we display the best parameteres of the model."
   ]
  },
  {
   "cell_type": "code",
   "execution_count": 35,
   "metadata": {},
   "outputs": [
    {
     "data": {
      "text/plain": [
       "{'classifier__C': 10,\n",
       " 'classifier__max_iter': 100,\n",
       " 'trans__use_idf': False,\n",
       " 'vect__ngram_range': (1, 2)}"
      ]
     },
     "execution_count": 35,
     "metadata": {},
     "output_type": "execute_result"
    }
   ],
   "source": [
    "gs_log.best_params_"
   ]
  },
  {
   "cell_type": "markdown",
   "metadata": {},
   "source": [
    "* To assess the performance of our model will use the Dummyclassifier setting the strategy to most frequent.\n",
    "* We can observe that both the training and testing accuracy score is 0.43.\n",
    "* In comparison with our previous algorithms ,we can say that the Dummy cllassifier is close with the MultinomialNB and the stohastic gradient descent.However, the logistic regression performs better sicne there is a 16% difference in the accuaracy scores.\n",
    "* As a result,the logistic regression with the best parameters from Gridsearch is the best algorithm that we found for the classification of the political parties."
   ]
  },
  {
   "cell_type": "code",
   "execution_count": 36,
   "metadata": {},
   "outputs": [
    {
     "name": "stdout",
     "output_type": "stream",
     "text": [
      "training accuracy:0.4305126667666017\n"
     ]
    }
   ],
   "source": [
    "dummy=Pipeline([('vect',CountVectorizer(stop_words=stop_words_lemma)),\n",
    "               ('trans',TfidfTransformer()),\n",
    "               ('classifier',DummyClassifier(strategy='most_frequent'))])\n",
    "dummy.fit(X_train,y_train)\n",
    "print('training accuracy:{}'.format(dummy.score(X_train,y_train)))"
   ]
  },
  {
   "cell_type": "code",
   "execution_count": 37,
   "metadata": {},
   "outputs": [
    {
     "name": "stdout",
     "output_type": "stream",
     "text": [
      "Accuracy Score ->  0.427958987888236\n"
     ]
    }
   ],
   "source": [
    "predictions_dummy = dummy.predict(X_test)\n",
    "# Use accuracy_score function to get the accuracy\n",
    "print(\"Accuracy Score -> \",accuracy_score(predictions_dummy, y_test))"
   ]
  },
  {
   "cell_type": "code",
   "execution_count": null,
   "metadata": {},
   "outputs": [],
   "source": []
  }
 ],
 "metadata": {
  "kernelspec": {
   "display_name": "Python 3",
   "language": "python",
   "name": "python3"
  },
  "language_info": {
   "codemirror_mode": {
    "name": "ipython",
    "version": 3
   },
   "file_extension": ".py",
   "mimetype": "text/x-python",
   "name": "python",
   "nbconvert_exporter": "python",
   "pygments_lexer": "ipython3",
   "version": "3.8.5"
  }
 },
 "nbformat": 4,
 "nbformat_minor": 4
}
